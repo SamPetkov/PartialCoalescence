{
  "nbformat": 4,
  "nbformat_minor": 0,
  "metadata": {
    "colab": {
      "provenance": [],
      "include_colab_link": true
    },
    "kernelspec": {
      "name": "python3",
      "display_name": "Python 3"
    },
    "language_info": {
      "name": "python"
    }
  },
  "cells": [
    {
      "cell_type": "markdown",
      "metadata": {
        "id": "view-in-github",
        "colab_type": "text"
      },
      "source": [
        "<a href=\"https://colab.research.google.com/github/SamPetkov/PartialCoalescence/blob/main/InternalDiameterDroplet.ipynb\" target=\"_parent\"><img src=\"https://colab.research.google.com/assets/colab-badge.svg\" alt=\"Open In Colab\"/></a>"
      ]
    },
    {
      "cell_type": "code",
      "execution_count": null,
      "metadata": {
        "id": "XqDzoRUfnlXv"
      },
      "outputs": [],
      "source": [
        "import numpy as np\n",
        "import matplotlib.pyplot as plt\n",
        "import math"
      ]
    },
    {
      "cell_type": "markdown",
      "source": [
        "Constants + Time variables"
      ],
      "metadata": {
        "id": "Jmo2LzT48IWX"
      }
    },
    {
      "cell_type": "markdown",
      "source": [],
      "metadata": {
        "id": "A5gShJkjJQbg"
      }
    },
    {
      "cell_type": "code",
      "source": [
        "#Constants\n",
        "sigma12 = 22e-3\n",
        "rho_l = 786.\n",
        "Mu_l = 0.00105\n",
        "\n",
        "D0 = 1.07e-3\n",
        "Oh0 = Mu_l/np.sqrt(rho_l*sigma12*D0)\n",
        "\n",
        "\n",
        "TAU = np.sqrt((rho_l*D0**(3))/(sigma12))\n",
        "V0 = np.pi/6\n",
        "\n",
        "#Results\n",
        "Di = np.array([0,0.05,0.10,0.15,0.20,0.25,0.30,0.35,0.40,0.45,0.50,0.55,0.56,0.57,0.58,0.59,0.59125,0.5925,0.59375,0.595])*D0\n",
        "# no pinch off for D = 0.1\n",
        "t_pinch_off_D = np.array([0.551,0.551, 0.551,0.551,0.549,0.548,0.544,0.540,0.535,0.531,0.528,0.533,0.541,0.587,0.569,0.587,0.590,0.601,0.609,0.643])\n",
        "## for .57 it is ready to pinch off at around 547 but a capillary waves jerks it upward\n",
        "t_pinch_off_SI = t_pinch_off_D*TAU\n"
      ],
      "metadata": {
        "id": "D8-oiOEB70PA"
      },
      "execution_count": null,
      "outputs": []
    },
    {
      "cell_type": "markdown",
      "source": [
        "Diameter ratio"
      ],
      "metadata": {
        "id": "shNgdxFYo-Bw"
      }
    },
    {
      "cell_type": "markdown",
      "source": [],
      "metadata": {
        "id": "hT9i5_ckhGqT"
      }
    },
    {
      "cell_type": "code",
      "source": [
        "V_daughter = np.array([0.105545,0.106315,0.10583,0.10563,0.105111,0.103941,0.10414,0.103321,0.102482,0.100689,0.0976142,0.0906251,0.0884968,0.0851081, 0.0817734,0.0787614,0.0781474,0.0776454,0.0768933,0.0779671])\n",
        "V_Deka = np.array([])\n",
        "# Note - for gird level 10 we fractional pixels have a substantial effect on the volume calculaed\n",
        "V = V0*(1-(Di/D0)**3)\n",
        "D_daughter = np.cbrt(V_daughter/V[:len(V_daughter)])\n",
        "\n",
        "d_Oh = np.cbrt(1-(3/8)*(Oh0+np.sqrt(Oh0**2+4)))\n"
      ],
      "metadata": {
        "id": "lH2Zb3Q4o4g5"
      },
      "execution_count": null,
      "outputs": []
    },
    {
      "cell_type": "code",
      "source": [
        "print(Oh0)\n",
        "print(D_daughter[0])\n",
        "print(d_Oh)\n",
        "print(len(V_daughter))\n",
        "print(len(Di))"
      ],
      "metadata": {
        "colab": {
          "base_uri": "https://localhost:8080/"
        },
        "id": "Nw7cCRIYyqGg",
        "outputId": "754be224-9dba-4d43-bbed-464e307bff2e"
      },
      "execution_count": null,
      "outputs": [
        {
          "output_type": "stream",
          "name": "stdout",
          "text": [
            "0.0077192444958885924\n",
            "0.586335712951008\n",
            "0.6275149413781771\n",
            "17\n",
            "17\n"
          ]
        }
      ]
    },
    {
      "cell_type": "code",
      "source": [
        "print(D_daughter )\n",
        "print(t_pinch_off_D)\n",
        "print(t_pinch_off_SI)"
      ],
      "metadata": {
        "colab": {
          "base_uri": "https://localhost:8080/"
        },
        "id": "hAaVI_kHN18l",
        "outputId": "8760c80e-3e22-47f3-dd39-aed98a67ede7"
      },
      "execution_count": null,
      "outputs": [
        {
          "output_type": "stream",
          "name": "stdout",
          "text": [
            "[0.58633571 0.58778262 0.58705875 0.58715436 0.58710074 0.58642062\n",
            " 0.58907244 0.59075459 0.59355054 0.59588129 0.59726735 0.5921427\n",
            " 0.58965746 0.58430442 0.57892992 0.57418466 0.57351763]\n",
            "[0.551 0.551 0.551 0.551 0.549 0.548 0.544 0.54  0.535 0.531 0.528 0.533\n",
            " 0.541 0.587 0.569 0.587 0.643]\n",
            "[0.00364525 0.00364525 0.00364525 0.00364525 0.00363202 0.0036254\n",
            " 0.00359894 0.00357248 0.0035394  0.00351294 0.00349309 0.00352617\n",
            " 0.00357909 0.00388341 0.00376433 0.00388341 0.00425389]\n"
          ]
        }
      ]
    },
    {
      "cell_type": "code",
      "source": [
        "error_from_frame_selection = 0.001/(np.sqrt(3)*0.551)"
      ],
      "metadata": {
        "id": "VcvOyrw-a5k1"
      },
      "execution_count": null,
      "outputs": []
    },
    {
      "cell_type": "markdown",
      "source": [
        "error graphs"
      ],
      "metadata": {
        "id": "0pRTLu1zxxHe"
      }
    },
    {
      "cell_type": "code",
      "source": [],
      "metadata": {
        "id": "UCD_kDjVxyya"
      },
      "execution_count": null,
      "outputs": []
    },
    {
      "cell_type": "markdown",
      "source": [
        " tp"
      ],
      "metadata": {
        "id": "Q2VcUdSpttQ4"
      }
    },
    {
      "cell_type": "code",
      "source": [
        "# prompt: create a log-log plot of the dependence of t_pinch_off_D on D add a linear regression fit to the model\n",
        "\n",
        "import matplotlib.pyplot as plt\n",
        "import numpy as np\n",
        "from scipy.stats import linregress\n",
        "\n",
        "\n",
        "\n",
        "# Create the plot\n",
        "plt.figure()\n",
        "plt.plot(Di[:len(t_pinch_off_D)]/D0, t_pinch_off_D*2**(3/2), 'o', label='Data')\n",
        "\n",
        "#Style\n",
        "plt.rcParams['font.family'] = 'serif'\n",
        "plt.rcParams['font.serif'] = ['DejaVu Serif', 'Times New Roman', 'Computer Modern Roman'] # Better font\n",
        "plt.rcParams['mathtext.fontset'] = 'cm' # Use Computer Modern fonts for math\n",
        "plt.rcParams['font.size'] = 10 # Adjust font size\n",
        "plt.rcParams['axes.labelsize'] = 14  # Increased label size\n",
        "plt.rcParams['axes.labelweight'] = 'bold' # Made labels bold\n",
        "plt.rcParams['axes.titlesize'] = 12\n",
        "plt.rcParams['xtick.labelsize'] = 9\n",
        "plt.rcParams['ytick.labelsize'] = 9\n",
        "plt.rcParams['legend.fontsize'] = 10\n",
        "plt.rcParams['figure.titlesize'] = 12\n",
        "\n",
        "plt.xlabel('$d_i$')\n",
        "plt.ylabel('$t_{p,R}$')\n",
        "plt.grid(False)\n",
        "plt.tick_params(which='major', length=7, direction='in')\n",
        "plt.tick_params(which='minor', length=4, direction='in')\n",
        "\n",
        "plt.show()\n",
        "\n",
        "# print(f\"Linear regression slope: {slope:.4f}\")\n",
        "# print(f\"Linear regression intercept: {intercept:.4f}\")\n",
        "# print(f\"R-squared: {r_value**2:.4f}\")"
      ],
      "metadata": {
        "colab": {
          "base_uri": "https://localhost:8080/",
          "height": 448
        },
        "id": "aVmum8l-t1jw",
        "outputId": "65b4bbca-063a-4505-ab21-a78fdcc16481"
      },
      "execution_count": null,
      "outputs": [
        {
          "output_type": "display_data",
          "data": {
            "text/plain": [
              "<Figure size 640x480 with 1 Axes>"
            ],
            "image/png": "[encoded data removed]"
          },
          "metadata": {}
        }
      ]
    },
    {
      "cell_type": "markdown",
      "source": [
        "tp corrected deka"
      ],
      "metadata": {
        "id": "PhkcP9skDW1h"
      }
    },
    {
      "cell_type": "code",
      "source": [
        "# prompt: create a log-log plot of the dependence of t_pinch_off_D on D add a linear regression fit to the model\n",
        "\n",
        "import matplotlib.pyplot as plt\n",
        "import numpy as np\n",
        "from scipy.stats import linregress\n",
        "\n",
        "\n",
        "\n",
        "# Create the plot\n",
        "plt.figure()\n",
        "plt.plot(Di[:len(t_pinch_off_D)]/D0, t_pinch_off_D*2**(3/2)/(np.sqrt((1-(Di/D0)**3))), 'o', label='Data')\n",
        "\n",
        "#Style\n",
        "plt.rcParams['font.family'] = 'serif'\n",
        "plt.rcParams['font.serif'] = ['DejaVu Serif', 'Times New Roman', 'Computer Modern Roman'] # Better font\n",
        "plt.rcParams['mathtext.fontset'] = 'cm' # Use Computer Modern fonts for math\n",
        "plt.rcParams['font.size'] = 12 # Adjust font size\n",
        "plt.rcParams['axes.labelsize'] = 16  # Increased label size\n",
        "plt.rcParams['axes.labelweight'] = 'bold' # Made labels bold\n",
        "plt.rcParams['axes.titlesize'] = 14\n",
        "plt.rcParams['xtick.labelsize'] = 12\n",
        "plt.rcParams['ytick.labelsize'] = 12\n",
        "plt.rcParams['legend.fontsize'] = 12\n",
        "plt.rcParams['figure.titlesize'] = 18\n",
        "\n",
        "plt.xlabel('$d_i$')\n",
        "plt.ylabel('$t_p^*$')\n",
        "plt.grid(False)\n",
        "plt.tick_params(which='major', length=7, direction='in')\n",
        "plt.tick_params(which='minor', length=4, direction='in')\n",
        "\n",
        "plt.savefig('t_pinch_off_D_vs_D.pdf')\n",
        "plt.show()\n",
        "\n",
        "# print(f\"Linear regression slope: {slope:.4f}\")\n",
        "# print(f\"Linear regression intercept: {intercept:.4f}\")\n",
        "# print(f\"R-squared: {r_value**2:.4f}\")"
      ],
      "metadata": {
        "colab": {
          "base_uri": "https://localhost:8080/",
          "height": 451
        },
        "id": "4cKE6nC9DYL9",
        "outputId": "0b33d32f-f0e8-4615-ec90-5c21652056af"
      },
      "execution_count": null,
      "outputs": [
        {
          "output_type": "display_data",
          "data": {
            "text/plain": [
              "<Figure size 640x480 with 1 Axes>"
            ],
            "image/png": "[encoded data removed]"
          },
          "metadata": {}
        }
      ]
    },
    {
      "cell_type": "markdown",
      "source": [
        "d di"
      ],
      "metadata": {
        "id": "EINVJA21x0Ps"
      }
    },
    {
      "cell_type": "code",
      "source": [
        "# prompt: create the matplot lib of D-daughter against Oh with points and draw the graph of d_Oh against Oh with continuos lines on the same graph start all arrays from index 2\n",
        "\n",
        "import matplotlib.pyplot as plt\n",
        "plt.figure()\n",
        "plt.plot(Di[:len(D_daughter)]/D0, D_daughter, 'o', label='D_daughter')\n",
        "\n",
        "#Style\n",
        "plt.rcParams['font.family'] = 'serif'\n",
        "plt.rcParams['font.serif'] = ['DejaVu Serif', 'Times New Roman', 'Computer Modern Roman'] # Better font\n",
        "plt.rcParams['mathtext.fontset'] = 'cm' # Use Computer Modern fonts for math\n",
        "plt.rcParams['font.size'] = 12 # Adjust font size\n",
        "plt.rcParams['axes.labelsize'] = 16  # Increased label size\n",
        "plt.rcParams['axes.labelweight'] = 'bold' # Made labels bold\n",
        "plt.rcParams['axes.titlesize'] = 14\n",
        "plt.rcParams['xtick.labelsize'] = 12\n",
        "plt.rcParams['ytick.labelsize'] = 12\n",
        "plt.rcParams['legend.fontsize'] = 12\n",
        "plt.rcParams['figure.titlesize'] = 18\n",
        "plt.tick_params(which='major', length=7, direction='in')\n",
        "plt.tick_params(which='minor', length=4, direction='in')\n",
        "\n",
        "plt.xlabel('$d_i$')\n",
        "plt.ylabel('$d$')\n",
        "plt.grid(False)\n",
        "plt.savefig('di_d.pdf')\n",
        "plt.show()"
      ],
      "metadata": {
        "colab": {
          "base_uri": "https://localhost:8080/",
          "height": 457
        },
        "id": "xT60oj79x2H0",
        "outputId": "4d63d654-c611-4248-c240-1686eba0a79a"
      },
      "execution_count": null,
      "outputs": [
        {
          "output_type": "display_data",
          "data": {
            "text/plain": [
              "<Figure size 640x480 with 1 Axes>"
            ],
            "image/png": "[encoded data removed]"
          },
          "metadata": {}
        }
      ]
    },
    {
      "cell_type": "markdown",
      "source": [
        "Interface generator\n",
        "\n"
      ],
      "metadata": {
        "id": "FpnefF1czIEy"
      }
    },
    {
      "cell_type": "code",
      "source": [
        "file_path = '/content/INterface/10/drop_t_00.354.dat'  # your file location\n",
        "background_image = '/content/INterface/10/time-00.354.png' # your image location\n",
        "\n",
        "# Read the file and extract segments\n",
        "segments = []\n",
        "current_segment = []\n",
        "\n",
        "with open(file_path, 'r') as file:\n",
        "    for line in file:\n",
        "        stripped = line.strip()\n",
        "        if not stripped:\n",
        "            if current_segment:\n",
        "                segments.append(current_segment)\n",
        "                current_segment = []\n",
        "        else:\n",
        "            try:\n",
        "                x, y = map(float, stripped.split())\n",
        "                current_segment.append((x, y))\n",
        "            except ValueError:\n",
        "                continue\n",
        "\n",
        "# Append the last segment if it exists\n",
        "if current_segment:\n",
        "    segments.append(current_segment)\n",
        "\n",
        "# Plot the segments\n",
        "plt.figure(figsize=(8, 6))\n",
        "for segment in segments:\n",
        "    xs, ys = zip(*segment)\n",
        "    # Plot original segment with swapped x and y\n",
        "    plt.plot(ys, xs, color='purple', linewidth=.25)\n",
        "\n",
        "    # Mirror the y-coordinates around x=0 (which are now the new x-coordinates)\n",
        "    # and plot the mirrored segment with swapped x and y\n",
        "    ys_mirrored = [-y for y in ys]\n",
        "    plt.plot(ys_mirrored, xs, color='purple', linewidth=.25)\n",
        "\n",
        "\n",
        "# Load and display the original background image\n",
        "img = plt.imread(background_image)\n",
        "plt.imshow(img, zorder=0, extent=[-2.6, 2.6, 4.4, 9.6])\n",
        "\n",
        "plt.title(\"Interface of the Pool (Original and Mirrored around X=0) with Swapped Axes\")\n",
        "plt.xlabel(\"Y* Coordinate\") # Swapped axis label\n",
        "plt.ylabel(\"X* Coordinate\") # Swapped axis label\n",
        "plt.grid(True)\n",
        "#plt.axis(\"equal\")\n",
        "plt.xlim(-3, 3)  # Set x-axis limits\n",
        "plt.ylim(4, 10)  # Set y-axis limits\n",
        "plt.tight_layout()\n",
        "\n",
        "plt.show()"
      ],
      "metadata": {
        "colab": {
          "base_uri": "https://localhost:8080/",
          "height": 607
        },
        "id": "qsgTWG4CzLKK",
        "outputId": "345fe8fe-187c-48e1-be4d-73cb232a04cb"
      },
      "execution_count": null,
      "outputs": [
        {
          "output_type": "display_data",
          "data": {
            "text/plain": [
              "<Figure size 800x600 with 1 Axes>"
            ],
            "image/png": "[encoded data removed]"
          },
          "metadata": {}
        }
      ]
    },
    {
      "cell_type": "code",
      "source": [
        "file_path = '/content/INterface/10/drop_t_00.354.dat'  # your file location\n",
        "background_image = '/content/INterface/10/time-00.354.png' # your image location\n",
        "\n",
        "# Read the file and extract segments\n",
        "segments = []\n",
        "current_segment = []\n",
        "\n",
        "with open(file_path, 'r') as file:\n",
        "    for line in file:\n",
        "        stripped = line.strip()\n",
        "        if not stripped:\n",
        "            if current_segment:\n",
        "                segments.append(current_segment)\n",
        "                current_segment = []\n",
        "        else:\n",
        "            try:\n",
        "                x, y = map(float, stripped.split())\n",
        "                current_segment.append((x, y))\n",
        "            except ValueError:\n",
        "                continue\n",
        "\n",
        "# Append the last segment if it exists\n",
        "if current_segment:\n",
        "    segments.append(current_segment)\n",
        "\n",
        "# Plot the segments\n",
        "plt.figure(figsize=(8, 6))\n",
        "for segment in segments:\n",
        "    xs, ys = zip(*segment)\n",
        "    # Plot original segment with swapped x and y\n",
        "    plt.plot(ys, xs, color='purple', linewidth=.25)\n",
        "\n",
        "    # Mirror the y-coordinates around x=0 (which are now the new x-coordinates)\n",
        "    # and plot the mirrored segment with swapped x and y\n",
        "    ys_mirrored = [-y for y in ys]\n",
        "    plt.plot(ys_mirrored, xs, color='purple', linewidth=.25)\n",
        "\n",
        "\n",
        "# Load and display the original background image\n",
        "img = plt.imread(background_image)\n",
        "plt.imshow(img, zorder=0, extent=[-2.6, 2.6, 4.4, 9.6])\n",
        "\n",
        "plt.title(\"Interface of the Pool (Original and Mirrored around X=0) with Swapped Axes\")\n",
        "plt.xlabel(\"Y* Coordinate\") # Swapped axis label\n",
        "plt.ylabel(\"X* Coordinate\") # Swapped axis label\n",
        "plt.grid(True)\n",
        "#plt.axis(\"equal\")\n",
        "plt.xlim(-3, 3)  # Set x-axis limits\n",
        "plt.ylim(4, 10)  # Set y-axis limits\n",
        "plt.tight_layout()\n",
        "\n",
        "plt.show()"
      ],
      "metadata": {
        "id": "8mqfglzhXnmq"
      },
      "execution_count": null,
      "outputs": []
    }
  ]
}