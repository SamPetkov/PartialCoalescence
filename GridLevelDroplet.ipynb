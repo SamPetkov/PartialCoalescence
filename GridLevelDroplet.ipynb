{
  "nbformat": 4,
  "nbformat_minor": 0,
  "metadata": {
    "colab": {
      "provenance": [],
      "include_colab_link": true
    },
    "kernelspec": {
      "name": "python3",
      "display_name": "Python 3"
    },
    "language_info": {
      "name": "python"
    }
  },
  "cells": [
    {
      "cell_type": "markdown",
      "metadata": {
        "id": "view-in-github",
        "colab_type": "text"
      },
      "source": [
        "<a href=\"https://colab.research.google.com/github/SamPetkov/PartialCoalescence/blob/main/GridLevelDroplet.ipynb\" target=\"_parent\"><img src=\"https://colab.research.google.com/assets/colab-badge.svg\" alt=\"Open In Colab\"/></a>"
      ]
    },
    {
      "cell_type": "code",
      "execution_count": null,
      "metadata": {
        "id": "XqDzoRUfnlXv"
      },
      "outputs": [],
      "source": [
        "import numpy as np\n",
        "import matplotlib.pyplot as plt\n",
        "import math"
      ]
    },
    {
      "cell_type": "markdown",
      "source": [
        "Constants + variables"
      ],
      "metadata": {
        "id": "Jmo2LzT48IWX"
      }
    },
    {
      "cell_type": "code",
      "source": [
        "#Constants\n",
        "sigma12 = 22e-3\n",
        "rho_l = 786.\n",
        "\n",
        "D = 1.07e-3\n",
        "\n",
        "TAU = np.sqrt((rho_l*D**(3))/(sigma12))\n",
        "V = np.pi/6\n",
        "\n",
        "#Results\n",
        "grids = np.array([10,11,12,13])\n",
        "t_pinch_off_D = np.array([0.584,0.558,0.551,0.551])\n",
        "t_pinch_off_R = t_pinch_off_D*np.pow(2,3/2)\n",
        "t_pinch_off_SI = t_pinch_off_D*TAU\n",
        "V_daughter = np.array([0.0990877,0.109328,0.103866,])\n",
        "# Note - for gird level 10 we fractional pixels have a substantial effect on the volume calculaed\n",
        "R_daughter_frame = np.array([0.694,0.697,0.690,])\n",
        "R_daughter = np.cbrt(V_daughter/V)"
      ],
      "metadata": {
        "id": "D8-oiOEB70PA"
      },
      "execution_count": null,
      "outputs": []
    },
    {
      "cell_type": "code",
      "source": [
        "print(R_daughter )\n",
        "print(t_pinch_off_R)\n",
        "print(t_pinch_off_SI)"
      ],
      "metadata": {
        "colab": {
          "base_uri": "https://localhost:8080/"
        },
        "id": "hAaVI_kHN18l",
        "outputId": "6fcfc31c-aa5b-41b5-b260-b5846c904ffa"
      },
      "execution_count": null,
      "outputs": [
        {
          "output_type": "stream",
          "name": "stdout",
          "text": [
            "[0.57412577 0.5932589  0.58320995]\n",
            "[1.65180144 1.57826234 1.55846335]\n",
            "[0.00386357 0.00369156 0.00364525]\n"
          ]
        }
      ]
    },
    {
      "cell_type": "code",
      "source": [
        "error_from_frame_selection = 0.001/(np.sqrt(3)*0.551)"
      ],
      "metadata": {
        "id": "VcvOyrw-a5k1"
      },
      "execution_count": null,
      "outputs": []
    },
    {
      "cell_type": "markdown",
      "source": [
        "Interface generator\n",
        "\n"
      ],
      "metadata": {
        "id": "FpnefF1czIEy"
      }
    },
    {
      "cell_type": "code",
      "source": [
        "file_path = '/content/INterface/10/drop_t_00.354.dat'  # your file location\n",
        "background_image = '/content/INterface/10/time-00.354.png' # your image location\n",
        "\n",
        "# Read the file and extract segments\n",
        "segments = []\n",
        "current_segment = []\n",
        "\n",
        "with open(file_path, 'r') as file:\n",
        "    for line in file:\n",
        "        stripped = line.strip()\n",
        "        if not stripped:\n",
        "            if current_segment:\n",
        "                segments.append(current_segment)\n",
        "                current_segment = []\n",
        "        else:\n",
        "            try:\n",
        "                x, y = map(float, stripped.split())\n",
        "                current_segment.append((x, y))\n",
        "            except ValueError:\n",
        "                continue\n",
        "\n",
        "# Append the last segment if it exists\n",
        "if current_segment:\n",
        "    segments.append(current_segment)\n",
        "\n",
        "# Plot the segments\n",
        "plt.figure(figsize=(8, 6))\n",
        "for segment in segments:\n",
        "    xs, ys = zip(*segment)\n",
        "    # Plot original segment with swapped x and y\n",
        "    plt.plot(ys, xs, color='purple', linewidth=.25)\n",
        "\n",
        "    # Mirror the y-coordinates around x=0 (which are now the new x-coordinates)\n",
        "    # and plot the mirrored segment with swapped x and y\n",
        "    ys_mirrored = [-y for y in ys]\n",
        "    plt.plot(ys_mirrored, xs, color='purple', linewidth=.25)\n",
        "\n",
        "\n",
        "# Load and display the original background image\n",
        "img = plt.imread(background_image)\n",
        "plt.imshow(img, zorder=0, extent=[-2.6, 2.6, 4.4, 9.6])\n",
        "\n",
        "plt.title(\"Interface of the Pool (Original and Mirrored around X=0) with Swapped Axes\")\n",
        "plt.xlabel(\"Y* Coordinate\") # Swapped axis label\n",
        "plt.ylabel(\"X* Coordinate\") # Swapped axis label\n",
        "plt.grid(True)\n",
        "#plt.axis(\"equal\")\n",
        "plt.xlim(-3, 3)  # Set x-axis limits\n",
        "plt.ylim(4, 10)  # Set y-axis limits\n",
        "plt.tight_layout()\n",
        "\n",
        "plt.show()"
      ],
      "metadata": {
        "colab": {
          "base_uri": "https://localhost:8080/",
          "height": 607
        },
        "id": "qsgTWG4CzLKK",
        "outputId": "345fe8fe-187c-48e1-be4d-73cb232a04cb"
      },
      "execution_count": null,
      "outputs": [
        {
          "output_type": "display_data",
          "data": {
            "text/plain": [
              "<Figure size 800x600 with 1 Axes>"
            ],
            "image/png": "[encoded data removed]"
          },
          "metadata": {}
        }
      ]
    },
    {
      "cell_type": "code",
      "source": [
        "file_path = '/content/INterface/10/drop_t_00.354.dat'  # your file location\n",
        "background_image = '/content/INterface/10/time-00.354.png' # your image location\n",
        "\n",
        "# Read the file and extract segments\n",
        "segments = []\n",
        "current_segment = []\n",
        "\n",
        "with open(file_path, 'r') as file:\n",
        "    for line in file:\n",
        "        stripped = line.strip()\n",
        "        if not stripped:\n",
        "            if current_segment:\n",
        "                segments.append(current_segment)\n",
        "                current_segment = []\n",
        "        else:\n",
        "            try:\n",
        "                x, y = map(float, stripped.split())\n",
        "                current_segment.append((x, y))\n",
        "            except ValueError:\n",
        "                continue\n",
        "\n",
        "# Append the last segment if it exists\n",
        "if current_segment:\n",
        "    segments.append(current_segment)\n",
        "\n",
        "# Plot the segments\n",
        "plt.figure(figsize=(8, 6))\n",
        "for segment in segments:\n",
        "    xs, ys = zip(*segment)\n",
        "    # Plot original segment with swapped x and y\n",
        "    plt.plot(ys, xs, color='purple', linewidth=.25)\n",
        "\n",
        "    # Mirror the y-coordinates around x=0 (which are now the new x-coordinates)\n",
        "    # and plot the mirrored segment with swapped x and y\n",
        "    ys_mirrored = [-y for y in ys]\n",
        "    plt.plot(ys_mirrored, xs, color='purple', linewidth=.25)\n",
        "\n",
        "\n",
        "# Load and display the original background image\n",
        "img = plt.imread(background_image)\n",
        "plt.imshow(img, zorder=0, extent=[-2.6, 2.6, 4.4, 9.6])\n",
        "\n",
        "plt.title(\"Interface of the Pool (Original and Mirrored around X=0) with Swapped Axes\")\n",
        "plt.xlabel(\"Y* Coordinate\") # Swapped axis label\n",
        "plt.ylabel(\"X* Coordinate\") # Swapped axis label\n",
        "plt.grid(True)\n",
        "#plt.axis(\"equal\")\n",
        "plt.xlim(-3, 3)  # Set x-axis limits\n",
        "plt.ylim(4, 10)  # Set y-axis limits\n",
        "plt.tight_layout()\n",
        "\n",
        "plt.show()"
      ],
      "metadata": {
        "id": "8mqfglzhXnmq"
      },
      "execution_count": null,
      "outputs": []
    }
  ]
}